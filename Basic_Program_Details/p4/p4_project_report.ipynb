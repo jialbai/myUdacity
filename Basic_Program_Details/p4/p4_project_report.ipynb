{
 "cells": [
  {
   "cell_type": "markdown",
   "metadata": {
    "collapsed": true
   },
   "source": [
    "# 数据分析报告: Titanic生还者数据"
   ]
  },
  {
   "cell_type": "markdown",
   "metadata": {},
   "source": [
    "## Phase 1: 提出问题阶段"
   ]
  },
  {
   "cell_type": "markdown",
   "metadata": {},
   "source": [
    "Question1: 有哪些因素会让船上的人生还率更高？"
   ]
  },
  {
   "cell_type": "markdown",
   "metadata": {},
   "source": [
    "Question2: 生还下来的人有何特点？"
   ]
  },
  {
   "cell_type": "markdown",
   "metadata": {},
   "source": [
    "## Phase 2: 数据整理阶段"
   ]
  },
  {
   "cell_type": "markdown",
   "metadata": {},
   "source": [
    "### Phase 2.1: 数据采集 "
   ]
  },
  {
   "cell_type": "code",
   "execution_count": 125,
   "metadata": {},
   "outputs": [
    {
     "data": {
      "text/html": [
       "<div>\n",
       "<style scoped>\n",
       "    .dataframe tbody tr th:only-of-type {\n",
       "        vertical-align: middle;\n",
       "    }\n",
       "\n",
       "    .dataframe tbody tr th {\n",
       "        vertical-align: top;\n",
       "    }\n",
       "\n",
       "    .dataframe thead th {\n",
       "        text-align: right;\n",
       "    }\n",
       "</style>\n",
       "<table border=\"1\" class=\"dataframe\">\n",
       "  <thead>\n",
       "    <tr style=\"text-align: right;\">\n",
       "      <th></th>\n",
       "      <th>PassengerId</th>\n",
       "      <th>Survived</th>\n",
       "      <th>Pclass</th>\n",
       "      <th>Name</th>\n",
       "      <th>Sex</th>\n",
       "      <th>Age</th>\n",
       "      <th>SibSp</th>\n",
       "      <th>Parch</th>\n",
       "      <th>Ticket</th>\n",
       "      <th>Fare</th>\n",
       "      <th>Cabin</th>\n",
       "      <th>Embarked</th>\n",
       "    </tr>\n",
       "  </thead>\n",
       "  <tbody>\n",
       "    <tr>\n",
       "      <th>0</th>\n",
       "      <td>1</td>\n",
       "      <td>0</td>\n",
       "      <td>3</td>\n",
       "      <td>Braund, Mr. Owen Harris</td>\n",
       "      <td>male</td>\n",
       "      <td>22.0</td>\n",
       "      <td>1</td>\n",
       "      <td>0</td>\n",
       "      <td>A/5 21171</td>\n",
       "      <td>7.2500</td>\n",
       "      <td>NaN</td>\n",
       "      <td>S</td>\n",
       "    </tr>\n",
       "    <tr>\n",
       "      <th>1</th>\n",
       "      <td>2</td>\n",
       "      <td>1</td>\n",
       "      <td>1</td>\n",
       "      <td>Cumings, Mrs. John Bradley (Florence Briggs Th...</td>\n",
       "      <td>female</td>\n",
       "      <td>38.0</td>\n",
       "      <td>1</td>\n",
       "      <td>0</td>\n",
       "      <td>PC 17599</td>\n",
       "      <td>71.2833</td>\n",
       "      <td>C85</td>\n",
       "      <td>C</td>\n",
       "    </tr>\n",
       "    <tr>\n",
       "      <th>2</th>\n",
       "      <td>3</td>\n",
       "      <td>1</td>\n",
       "      <td>3</td>\n",
       "      <td>Heikkinen, Miss. Laina</td>\n",
       "      <td>female</td>\n",
       "      <td>26.0</td>\n",
       "      <td>0</td>\n",
       "      <td>0</td>\n",
       "      <td>STON/O2. 3101282</td>\n",
       "      <td>7.9250</td>\n",
       "      <td>NaN</td>\n",
       "      <td>S</td>\n",
       "    </tr>\n",
       "    <tr>\n",
       "      <th>3</th>\n",
       "      <td>4</td>\n",
       "      <td>1</td>\n",
       "      <td>1</td>\n",
       "      <td>Futrelle, Mrs. Jacques Heath (Lily May Peel)</td>\n",
       "      <td>female</td>\n",
       "      <td>35.0</td>\n",
       "      <td>1</td>\n",
       "      <td>0</td>\n",
       "      <td>113803</td>\n",
       "      <td>53.1000</td>\n",
       "      <td>C123</td>\n",
       "      <td>S</td>\n",
       "    </tr>\n",
       "    <tr>\n",
       "      <th>4</th>\n",
       "      <td>5</td>\n",
       "      <td>0</td>\n",
       "      <td>3</td>\n",
       "      <td>Allen, Mr. William Henry</td>\n",
       "      <td>male</td>\n",
       "      <td>35.0</td>\n",
       "      <td>0</td>\n",
       "      <td>0</td>\n",
       "      <td>373450</td>\n",
       "      <td>8.0500</td>\n",
       "      <td>NaN</td>\n",
       "      <td>S</td>\n",
       "    </tr>\n",
       "    <tr>\n",
       "      <th>5</th>\n",
       "      <td>6</td>\n",
       "      <td>0</td>\n",
       "      <td>3</td>\n",
       "      <td>Moran, Mr. James</td>\n",
       "      <td>male</td>\n",
       "      <td>NaN</td>\n",
       "      <td>0</td>\n",
       "      <td>0</td>\n",
       "      <td>330877</td>\n",
       "      <td>8.4583</td>\n",
       "      <td>NaN</td>\n",
       "      <td>Q</td>\n",
       "    </tr>\n",
       "    <tr>\n",
       "      <th>6</th>\n",
       "      <td>7</td>\n",
       "      <td>0</td>\n",
       "      <td>1</td>\n",
       "      <td>McCarthy, Mr. Timothy J</td>\n",
       "      <td>male</td>\n",
       "      <td>54.0</td>\n",
       "      <td>0</td>\n",
       "      <td>0</td>\n",
       "      <td>17463</td>\n",
       "      <td>51.8625</td>\n",
       "      <td>E46</td>\n",
       "      <td>S</td>\n",
       "    </tr>\n",
       "    <tr>\n",
       "      <th>7</th>\n",
       "      <td>8</td>\n",
       "      <td>0</td>\n",
       "      <td>3</td>\n",
       "      <td>Palsson, Master. Gosta Leonard</td>\n",
       "      <td>male</td>\n",
       "      <td>2.0</td>\n",
       "      <td>3</td>\n",
       "      <td>1</td>\n",
       "      <td>349909</td>\n",
       "      <td>21.0750</td>\n",
       "      <td>NaN</td>\n",
       "      <td>S</td>\n",
       "    </tr>\n",
       "    <tr>\n",
       "      <th>8</th>\n",
       "      <td>9</td>\n",
       "      <td>1</td>\n",
       "      <td>3</td>\n",
       "      <td>Johnson, Mrs. Oscar W (Elisabeth Vilhelmina Berg)</td>\n",
       "      <td>female</td>\n",
       "      <td>27.0</td>\n",
       "      <td>0</td>\n",
       "      <td>2</td>\n",
       "      <td>347742</td>\n",
       "      <td>11.1333</td>\n",
       "      <td>NaN</td>\n",
       "      <td>S</td>\n",
       "    </tr>\n",
       "    <tr>\n",
       "      <th>9</th>\n",
       "      <td>10</td>\n",
       "      <td>1</td>\n",
       "      <td>2</td>\n",
       "      <td>Nasser, Mrs. Nicholas (Adele Achem)</td>\n",
       "      <td>female</td>\n",
       "      <td>14.0</td>\n",
       "      <td>1</td>\n",
       "      <td>0</td>\n",
       "      <td>237736</td>\n",
       "      <td>30.0708</td>\n",
       "      <td>NaN</td>\n",
       "      <td>C</td>\n",
       "    </tr>\n",
       "  </tbody>\n",
       "</table>\n",
       "</div>"
      ],
      "text/plain": [
       "   PassengerId  Survived  Pclass  \\\n",
       "0            1         0       3   \n",
       "1            2         1       1   \n",
       "2            3         1       3   \n",
       "3            4         1       1   \n",
       "4            5         0       3   \n",
       "5            6         0       3   \n",
       "6            7         0       1   \n",
       "7            8         0       3   \n",
       "8            9         1       3   \n",
       "9           10         1       2   \n",
       "\n",
       "                                                Name     Sex   Age  SibSp  \\\n",
       "0                            Braund, Mr. Owen Harris    male  22.0      1   \n",
       "1  Cumings, Mrs. John Bradley (Florence Briggs Th...  female  38.0      1   \n",
       "2                             Heikkinen, Miss. Laina  female  26.0      0   \n",
       "3       Futrelle, Mrs. Jacques Heath (Lily May Peel)  female  35.0      1   \n",
       "4                           Allen, Mr. William Henry    male  35.0      0   \n",
       "5                                   Moran, Mr. James    male   NaN      0   \n",
       "6                            McCarthy, Mr. Timothy J    male  54.0      0   \n",
       "7                     Palsson, Master. Gosta Leonard    male   2.0      3   \n",
       "8  Johnson, Mrs. Oscar W (Elisabeth Vilhelmina Berg)  female  27.0      0   \n",
       "9                Nasser, Mrs. Nicholas (Adele Achem)  female  14.0      1   \n",
       "\n",
       "   Parch            Ticket     Fare Cabin Embarked  \n",
       "0      0         A/5 21171   7.2500   NaN        S  \n",
       "1      0          PC 17599  71.2833   C85        C  \n",
       "2      0  STON/O2. 3101282   7.9250   NaN        S  \n",
       "3      0            113803  53.1000  C123        S  \n",
       "4      0            373450   8.0500   NaN        S  \n",
       "5      0            330877   8.4583   NaN        Q  \n",
       "6      0             17463  51.8625   E46        S  \n",
       "7      1            349909  21.0750   NaN        S  \n",
       "8      2            347742  11.1333   NaN        S  \n",
       "9      0            237736  30.0708   NaN        C  "
      ]
     },
     "execution_count": 125,
     "metadata": {},
     "output_type": "execute_result"
    }
   ],
   "source": [
    "import numpy as np\n",
    "import pandas as pd\n",
    "import matplotlib.pyplot as plt\n",
    "import seaborn as sns\n",
    "\n",
    "# 从CSV文件加载数据\n",
    "titanic_full_df = pd.read_csv('titanic_data.csv')\n",
    "\n",
    "titanic_full_df.head(n=10)"
   ]
  },
  {
   "cell_type": "markdown",
   "metadata": {},
   "source": [
    "### Phase 2.2: 数据清理 "
   ]
  },
  {
   "cell_type": "markdown",
   "metadata": {},
   "source": [
    "Cabin信息缺失较多，有效信息较少，故删除此列\n",
    "\n",
    "Ticket信息对分析生还率贡献较少，故删除此列\n",
    "\n",
    "Name信息对分析生还率贡献较少，故删除此列\n",
    "\n",
    "Embarked信息对分析生还率贡献较少，故删除此列"
   ]
  },
  {
   "cell_type": "code",
   "execution_count": 126,
   "metadata": {},
   "outputs": [
    {
     "data": {
      "text/html": [
       "<div>\n",
       "<style scoped>\n",
       "    .dataframe tbody tr th:only-of-type {\n",
       "        vertical-align: middle;\n",
       "    }\n",
       "\n",
       "    .dataframe tbody tr th {\n",
       "        vertical-align: top;\n",
       "    }\n",
       "\n",
       "    .dataframe thead th {\n",
       "        text-align: right;\n",
       "    }\n",
       "</style>\n",
       "<table border=\"1\" class=\"dataframe\">\n",
       "  <thead>\n",
       "    <tr style=\"text-align: right;\">\n",
       "      <th></th>\n",
       "      <th>PassengerId</th>\n",
       "      <th>Survived</th>\n",
       "      <th>Pclass</th>\n",
       "      <th>Sex</th>\n",
       "      <th>Age</th>\n",
       "      <th>SibSp</th>\n",
       "      <th>Parch</th>\n",
       "      <th>Fare</th>\n",
       "    </tr>\n",
       "  </thead>\n",
       "  <tbody>\n",
       "    <tr>\n",
       "      <th>0</th>\n",
       "      <td>1</td>\n",
       "      <td>0</td>\n",
       "      <td>3</td>\n",
       "      <td>male</td>\n",
       "      <td>22.0</td>\n",
       "      <td>1</td>\n",
       "      <td>0</td>\n",
       "      <td>7.2500</td>\n",
       "    </tr>\n",
       "    <tr>\n",
       "      <th>1</th>\n",
       "      <td>2</td>\n",
       "      <td>1</td>\n",
       "      <td>1</td>\n",
       "      <td>female</td>\n",
       "      <td>38.0</td>\n",
       "      <td>1</td>\n",
       "      <td>0</td>\n",
       "      <td>71.2833</td>\n",
       "    </tr>\n",
       "    <tr>\n",
       "      <th>2</th>\n",
       "      <td>3</td>\n",
       "      <td>1</td>\n",
       "      <td>3</td>\n",
       "      <td>female</td>\n",
       "      <td>26.0</td>\n",
       "      <td>0</td>\n",
       "      <td>0</td>\n",
       "      <td>7.9250</td>\n",
       "    </tr>\n",
       "    <tr>\n",
       "      <th>3</th>\n",
       "      <td>4</td>\n",
       "      <td>1</td>\n",
       "      <td>1</td>\n",
       "      <td>female</td>\n",
       "      <td>35.0</td>\n",
       "      <td>1</td>\n",
       "      <td>0</td>\n",
       "      <td>53.1000</td>\n",
       "    </tr>\n",
       "    <tr>\n",
       "      <th>4</th>\n",
       "      <td>5</td>\n",
       "      <td>0</td>\n",
       "      <td>3</td>\n",
       "      <td>male</td>\n",
       "      <td>35.0</td>\n",
       "      <td>0</td>\n",
       "      <td>0</td>\n",
       "      <td>8.0500</td>\n",
       "    </tr>\n",
       "  </tbody>\n",
       "</table>\n",
       "</div>"
      ],
      "text/plain": [
       "   PassengerId  Survived  Pclass     Sex   Age  SibSp  Parch     Fare\n",
       "0            1         0       3    male  22.0      1      0   7.2500\n",
       "1            2         1       1  female  38.0      1      0  71.2833\n",
       "2            3         1       3  female  26.0      0      0   7.9250\n",
       "3            4         1       1  female  35.0      1      0  53.1000\n",
       "4            5         0       3    male  35.0      0      0   8.0500"
      ]
     },
     "execution_count": 126,
     "metadata": {},
     "output_type": "execute_result"
    }
   ],
   "source": [
    "column_cleaned_df = titanic_full_df.drop(['Cabin','Ticket','Name','Embarked'], axis=1)\n",
    "column_cleaned_df.head()"
   ]
  },
  {
   "cell_type": "markdown",
   "metadata": {},
   "source": [
    "为方便求均值，将Sex列中的female替换为0 male替换为1"
   ]
  },
  {
   "cell_type": "code",
   "execution_count": 127,
   "metadata": {},
   "outputs": [
    {
     "data": {
      "text/html": [
       "<div>\n",
       "<style scoped>\n",
       "    .dataframe tbody tr th:only-of-type {\n",
       "        vertical-align: middle;\n",
       "    }\n",
       "\n",
       "    .dataframe tbody tr th {\n",
       "        vertical-align: top;\n",
       "    }\n",
       "\n",
       "    .dataframe thead th {\n",
       "        text-align: right;\n",
       "    }\n",
       "</style>\n",
       "<table border=\"1\" class=\"dataframe\">\n",
       "  <thead>\n",
       "    <tr style=\"text-align: right;\">\n",
       "      <th></th>\n",
       "      <th>PassengerId</th>\n",
       "      <th>Survived</th>\n",
       "      <th>Pclass</th>\n",
       "      <th>Sex</th>\n",
       "      <th>Age</th>\n",
       "      <th>SibSp</th>\n",
       "      <th>Parch</th>\n",
       "      <th>Fare</th>\n",
       "    </tr>\n",
       "  </thead>\n",
       "  <tbody>\n",
       "    <tr>\n",
       "      <th>0</th>\n",
       "      <td>1</td>\n",
       "      <td>0</td>\n",
       "      <td>3</td>\n",
       "      <td>1</td>\n",
       "      <td>22.0</td>\n",
       "      <td>1</td>\n",
       "      <td>0</td>\n",
       "      <td>7.2500</td>\n",
       "    </tr>\n",
       "    <tr>\n",
       "      <th>1</th>\n",
       "      <td>2</td>\n",
       "      <td>1</td>\n",
       "      <td>1</td>\n",
       "      <td>0</td>\n",
       "      <td>38.0</td>\n",
       "      <td>1</td>\n",
       "      <td>0</td>\n",
       "      <td>71.2833</td>\n",
       "    </tr>\n",
       "    <tr>\n",
       "      <th>2</th>\n",
       "      <td>3</td>\n",
       "      <td>1</td>\n",
       "      <td>3</td>\n",
       "      <td>0</td>\n",
       "      <td>26.0</td>\n",
       "      <td>0</td>\n",
       "      <td>0</td>\n",
       "      <td>7.9250</td>\n",
       "    </tr>\n",
       "    <tr>\n",
       "      <th>3</th>\n",
       "      <td>4</td>\n",
       "      <td>1</td>\n",
       "      <td>1</td>\n",
       "      <td>0</td>\n",
       "      <td>35.0</td>\n",
       "      <td>1</td>\n",
       "      <td>0</td>\n",
       "      <td>53.1000</td>\n",
       "    </tr>\n",
       "    <tr>\n",
       "      <th>4</th>\n",
       "      <td>5</td>\n",
       "      <td>0</td>\n",
       "      <td>3</td>\n",
       "      <td>1</td>\n",
       "      <td>35.0</td>\n",
       "      <td>0</td>\n",
       "      <td>0</td>\n",
       "      <td>8.0500</td>\n",
       "    </tr>\n",
       "  </tbody>\n",
       "</table>\n",
       "</div>"
      ],
      "text/plain": [
       "   PassengerId  Survived  Pclass  Sex   Age  SibSp  Parch     Fare\n",
       "0            1         0       3    1  22.0      1      0   7.2500\n",
       "1            2         1       1    0  38.0      1      0  71.2833\n",
       "2            3         1       3    0  26.0      0      0   7.9250\n",
       "3            4         1       1    0  35.0      1      0  53.1000\n",
       "4            5         0       3    1  35.0      0      0   8.0500"
      ]
     },
     "execution_count": 127,
     "metadata": {},
     "output_type": "execute_result"
    }
   ],
   "source": [
    "column_cleaned_df.replace(to_replace='female',value=0,inplace=True)\n",
    "column_cleaned_df.replace(to_replace='male',value=1,inplace=True)\n",
    "column_cleaned_df.head()"
   ]
  },
  {
   "cell_type": "markdown",
   "metadata": {},
   "source": [
    "年龄信息部分缺失，将所有缺失项删除，即删除所有的NaN"
   ]
  },
  {
   "cell_type": "code",
   "execution_count": 128,
   "metadata": {},
   "outputs": [
    {
     "data": {
      "text/plain": [
       "PassengerId    714\n",
       "Survived       714\n",
       "Pclass         714\n",
       "Sex            714\n",
       "Age            714\n",
       "SibSp          714\n",
       "Parch          714\n",
       "Fare           714\n",
       "dtype: int64"
      ]
     },
     "execution_count": 128,
     "metadata": {},
     "output_type": "execute_result"
    }
   ],
   "source": [
    "all_cleaned_titanic_df = column_cleaned_df.dropna(axis=0)\n",
    "\n",
    "all_cleaned_titanic_df.count()"
   ]
  },
  {
   "cell_type": "code",
   "execution_count": 129,
   "metadata": {},
   "outputs": [],
   "source": [
    "# 生成“生还者df”和“未生还者df”\n",
    "def get_seperate_df(titanic_df):\n",
    "    survived_df = titanic_df.copy()\n",
    "    non_survived_df = titanic_df.copy()\n",
    "    for ind in titanic_df.index:\n",
    "        item = titanic_df.loc[ind]\n",
    "        if item['Survived'] == 0:\n",
    "            survived_df.drop(index=ind, axis=1, inplace=True)\n",
    "        elif item['Survived'] == 1:\n",
    "            non_survived_df.drop(index=ind, axis=1, inplace=True)\n",
    "#     return (survived_df.head(n=5), non_survived_df.head(n=5))\n",
    "    return (survived_df, non_survived_df)"
   ]
  },
  {
   "cell_type": "markdown",
   "metadata": {},
   "source": [
    "#### 计算与年龄无关的数据（如pclass、性别等）时，使用未清理Age列中NaN的df数据，即：\n",
    "survived_column_cleaned_df 和 non_survived_column_cleaned_df"
   ]
  },
  {
   "cell_type": "code",
   "execution_count": 130,
   "metadata": {},
   "outputs": [
    {
     "name": "stdout",
     "output_type": "stream",
     "text": [
      "   PassengerId  Survived  Pclass  Sex   Age  SibSp  Parch     Fare\n",
      "1            2         1       1    0  38.0      1      0  71.2833\n",
      "2            3         1       3    0  26.0      0      0   7.9250\n",
      "3            4         1       1    0  35.0      1      0  53.1000\n",
      "8            9         1       3    0  27.0      0      2  11.1333\n",
      "9           10         1       2    0  14.0      1      0  30.0708\n",
      "   PassengerId  Survived  Pclass  Sex   Age  SibSp  Parch     Fare\n",
      "0            1         0       3    1  22.0      1      0   7.2500\n",
      "4            5         0       3    1  35.0      0      0   8.0500\n",
      "5            6         0       3    1   NaN      0      0   8.4583\n",
      "6            7         0       1    1  54.0      0      0  51.8625\n",
      "7            8         0       3    1   2.0      3      1  21.0750\n"
     ]
    }
   ],
   "source": [
    "# 清理了无用列之后的survivors和non_surviviors\n",
    "survived_column_cleaned_df,non_survived_column_cleaned_df = get_seperate_df(column_cleaned_df)\n",
    "print survived_column_cleaned_df.head()\n",
    "print non_survived_column_cleaned_df.head()"
   ]
  },
  {
   "cell_type": "markdown",
   "metadata": {},
   "source": [
    "#### 计算与年龄数据时，使用清理过Age列中NaN的df数据，即：\n",
    "survived_all_cleaned_df 和 non_survived_all_cleaned_df"
   ]
  },
  {
   "cell_type": "code",
   "execution_count": 131,
   "metadata": {},
   "outputs": [
    {
     "name": "stdout",
     "output_type": "stream",
     "text": [
      "   PassengerId  Survived  Pclass  Sex   Age  SibSp  Parch     Fare\n",
      "1            2         1       1    0  38.0      1      0  71.2833\n",
      "2            3         1       3    0  26.0      0      0   7.9250\n",
      "3            4         1       1    0  35.0      1      0  53.1000\n",
      "8            9         1       3    0  27.0      0      2  11.1333\n",
      "9           10         1       2    0  14.0      1      0  30.0708\n",
      "    PassengerId  Survived  Pclass  Sex   Age  SibSp  Parch     Fare\n",
      "0             1         0       3    1  22.0      1      0   7.2500\n",
      "4             5         0       3    1  35.0      0      0   8.0500\n",
      "6             7         0       1    1  54.0      0      0  51.8625\n",
      "7             8         0       3    1   2.0      3      1  21.0750\n",
      "12           13         0       3    1  20.0      0      0   8.0500\n"
     ]
    }
   ],
   "source": [
    "# 清理了无用列以及所有NaN之后的survivors和non_surviviors\n",
    "survived_all_cleaned_df,non_survived_all_cleaned_df = get_seperate_df(all_cleaned_titanic_df)\n",
    "print survived_all_cleaned_df.head()\n",
    "print non_survived_all_cleaned_df.head()"
   ]
  },
  {
   "cell_type": "markdown",
   "metadata": {},
   "source": [
    "## Phase 3: 探索阶段"
   ]
  },
  {
   "cell_type": "markdown",
   "metadata": {},
   "source": [
    "### Phase 3.1: 培养直觉"
   ]
  },
  {
   "cell_type": "code",
   "execution_count": 132,
   "metadata": {
    "scrolled": true
   },
   "outputs": [
    {
     "data": {
      "text/plain": [
       "count    891.000000\n",
       "mean       0.383838\n",
       "std        0.486592\n",
       "min        0.000000\n",
       "25%        0.000000\n",
       "50%        0.000000\n",
       "75%        1.000000\n",
       "max        1.000000\n",
       "Name: Survived, dtype: float64"
      ]
     },
     "execution_count": 132,
     "metadata": {},
     "output_type": "execute_result"
    }
   ],
   "source": [
    "# 观察数据\n",
    "\n",
    "titanic_full_df['Survived'].describe()"
   ]
  },
  {
   "cell_type": "markdown",
   "metadata": {},
   "source": [
    "此mean值含义为: 38.4%左右的乘客生还\n",
    "std值无实际含义\n",
    "***"
   ]
  },
  {
   "cell_type": "code",
   "execution_count": 133,
   "metadata": {},
   "outputs": [
    {
     "data": {
      "text/plain": [
       "count    891.000000\n",
       "mean       2.308642\n",
       "std        0.836071\n",
       "min        1.000000\n",
       "25%        2.000000\n",
       "50%        3.000000\n",
       "75%        3.000000\n",
       "max        3.000000\n",
       "Name: Pclass, dtype: float64"
      ]
     },
     "execution_count": 133,
     "metadata": {},
     "output_type": "execute_result"
    }
   ],
   "source": [
    "titanic_full_df['Pclass'].describe()"
   ]
  },
  {
   "cell_type": "markdown",
   "metadata": {},
   "source": [
    "二三pclass等级的乘客较多\n",
    "*** "
   ]
  },
  {
   "cell_type": "code",
   "execution_count": 134,
   "metadata": {},
   "outputs": [
    {
     "data": {
      "text/plain": [
       "count      891\n",
       "unique       2\n",
       "top       male\n",
       "freq       577\n",
       "Name: Sex, dtype: object"
      ]
     },
     "execution_count": 134,
     "metadata": {},
     "output_type": "execute_result"
    }
   ],
   "source": [
    "titanic_full_df['Sex'].describe()"
   ]
  },
  {
   "cell_type": "markdown",
   "metadata": {},
   "source": [
    "男女乘客比为 577/(891-577) = 1.84:1"
   ]
  },
  {
   "cell_type": "code",
   "execution_count": 135,
   "metadata": {},
   "outputs": [
    {
     "data": {
      "text/plain": [
       "1.8375796178343948"
      ]
     },
     "execution_count": 135,
     "metadata": {},
     "output_type": "execute_result"
    }
   ],
   "source": [
    "577.0/(891-577)"
   ]
  },
  {
   "cell_type": "markdown",
   "metadata": {},
   "source": [
    "***"
   ]
  },
  {
   "cell_type": "code",
   "execution_count": 136,
   "metadata": {},
   "outputs": [
    {
     "data": {
      "text/plain": [
       "count    714.000000\n",
       "mean      29.699118\n",
       "std       14.526497\n",
       "min        0.420000\n",
       "25%       20.125000\n",
       "50%       28.000000\n",
       "75%       38.000000\n",
       "max       80.000000\n",
       "Name: Age, dtype: float64"
      ]
     },
     "execution_count": 136,
     "metadata": {},
     "output_type": "execute_result"
    }
   ],
   "source": [
    "titanic_full_df['Age'].describe()"
   ]
  },
  {
   "cell_type": "markdown",
   "metadata": {},
   "source": [
    "年龄信息部分缺失，会影响后续计算精度，必要时需使用清理过Age列中NaN的数据"
   ]
  },
  {
   "cell_type": "markdown",
   "metadata": {},
   "source": [
    "另，经观察：部分乘客年龄小于1岁，但考虑到可能是实际情况（孕期或者刚出生的小孩），此处不做清理\n",
    "***"
   ]
  },
  {
   "cell_type": "markdown",
   "metadata": {},
   "source": [
    "### Phase 3.2: 找出数据模式"
   ]
  },
  {
   "cell_type": "markdown",
   "metadata": {},
   "source": [
    "### 有哪些因素会让船上的人生还率更高?"
   ]
  },
  {
   "cell_type": "markdown",
   "metadata": {},
   "source": [
    "1.性别？\n",
    "\n",
    "2.pclass等级？\n",
    "\n",
    "3.年龄？\n",
    "***"
   ]
  },
  {
   "cell_type": "code",
   "execution_count": 137,
   "metadata": {},
   "outputs": [],
   "source": [
    "#计算相关性的方法 返回值在-1～1之间 绝对值越大 相关性越强\n",
    "def correlation(x, y):\n",
    "    '''\n",
    "    calc correlation(Pearson's r) for column x and column y\n",
    "    '''\n",
    "    x_in_sd = x.std(ddof=0)\n",
    "    x_stadardized = (x - x.mean())/ x_in_sd\n",
    "\n",
    "    y_in_sd = y.std(ddof=0)\n",
    "    y_stadardized = (y - y.mean())/ y_in_sd\n",
    "\n",
    "    correlation = (x_stadardized * y_stadardized).mean()\n",
    "    return correlation\n"
   ]
  },
  {
   "cell_type": "markdown",
   "metadata": {},
   "source": [
    "直觉1：女性生存率高于男性"
   ]
  },
  {
   "cell_type": "code",
   "execution_count": 138,
   "metadata": {
    "scrolled": true
   },
   "outputs": [
    {
     "data": {
      "text/plain": [
       "Sex  Survived\n",
       "0    0            81\n",
       "     1           233\n",
       "1    0           468\n",
       "     1           109\n",
       "Name: PassengerId, dtype: int64"
      ]
     },
     "execution_count": 138,
     "metadata": {},
     "output_type": "execute_result"
    }
   ],
   "source": [
    "# 1. 性别\n",
    "column_cleaned_df.groupby(['Sex', 'Survived']).count()['PassengerId']"
   ]
  },
  {
   "cell_type": "markdown",
   "metadata": {},
   "source": [
    "女性生存遇难比约为3:1\n",
    "男性生存遇难比约为1:4.5"
   ]
  },
  {
   "cell_type": "code",
   "execution_count": 139,
   "metadata": {},
   "outputs": [
    {
     "name": "stdout",
     "output_type": "stream",
     "text": [
      "-0.5433513806577553\n"
     ]
    }
   ],
   "source": [
    "# 计算性别与是否生还的相关性\n",
    "survived = column_cleaned_df['Survived']\n",
    "sex = column_cleaned_df['Sex']\n",
    "\n",
    "print correlation(survived, sex)"
   ]
  },
  {
   "cell_type": "markdown",
   "metadata": {},
   "source": [
    "Pearson's r = -0.54\n",
    "说明性别与是否生还的相关性较强\n",
    "***"
   ]
  },
  {
   "cell_type": "markdown",
   "metadata": {},
   "source": [
    "直觉2：pclass1生存率 > pclass2生存率 > pclass3生存率"
   ]
  },
  {
   "cell_type": "code",
   "execution_count": 140,
   "metadata": {},
   "outputs": [
    {
     "data": {
      "text/plain": [
       "Pclass  Survived\n",
       "1       0            80\n",
       "        1           136\n",
       "2       0            97\n",
       "        1            87\n",
       "3       0           372\n",
       "        1           119\n",
       "Name: PassengerId, dtype: int64"
      ]
     },
     "execution_count": 140,
     "metadata": {},
     "output_type": "execute_result"
    }
   ],
   "source": [
    "# 2. pclass等级\n",
    "column_cleaned_df.groupby(['Pclass', 'Survived']).count()['PassengerId']"
   ]
  },
  {
   "cell_type": "markdown",
   "metadata": {},
   "source": [
    "pclass1生存遇难比约为1.7:1\n",
    "pclass2生存遇难比约为0.9:1\n",
    "pclass3生存遇难比约为0.3:1"
   ]
  },
  {
   "cell_type": "code",
   "execution_count": 141,
   "metadata": {},
   "outputs": [
    {
     "name": "stdout",
     "output_type": "stream",
     "text": [
      "-0.3384810359610152\n"
     ]
    }
   ],
   "source": [
    "# 计算pclass等级与是否生还的相关性\n",
    "survived = column_cleaned_df['Survived']\n",
    "pclass = column_cleaned_df['Pclass']\n",
    "\n",
    "print correlation(survived, pclass)"
   ]
  },
  {
   "cell_type": "markdown",
   "metadata": {},
   "source": [
    "Pearson's r = -0.34\n",
    "说明pclass等级与是否生还的相关性较强\n",
    "***"
   ]
  },
  {
   "cell_type": "markdown",
   "metadata": {},
   "source": [
    "直觉3：年龄因素对是否生还贡献不大"
   ]
  },
  {
   "cell_type": "code",
   "execution_count": 142,
   "metadata": {},
   "outputs": [
    {
     "name": "stdout",
     "output_type": "stream",
     "text": [
      "-0.07722109457217766\n"
     ]
    }
   ],
   "source": [
    "# 3. 年龄\n",
    "\n",
    "# 计算年龄与是否生还的相关性\n",
    "survived = all_cleaned_titanic_df['Survived']\n",
    "age = all_cleaned_titanic_df['Age']\n",
    "\n",
    "print correlation(survived, age)"
   ]
  },
  {
   "cell_type": "markdown",
   "metadata": {},
   "source": [
    "新建一个年龄段变量，对乘客根据年龄分组，以便对每一个组计算其存活率。"
   ]
  },
  {
   "cell_type": "code",
   "execution_count": 143,
   "metadata": {},
   "outputs": [
    {
     "name": "stderr",
     "output_type": "stream",
     "text": [
      "/Users/jialbai/anaconda2/envs/py2/lib/python2.7/site-packages/ipykernel_launcher.py:2: SettingWithCopyWarning: \n",
      "A value is trying to be set on a copy of a slice from a DataFrame.\n",
      "Try using .loc[row_indexer,col_indexer] = value instead\n",
      "\n",
      "See the caveats in the documentation: http://pandas.pydata.org/pandas-docs/stable/indexing.html#indexing-view-versus-copy\n",
      "  \n"
     ]
    },
    {
     "data": {
      "text/plain": [
       "Age_group\n",
       "(0, 10]      64\n",
       "(10, 20]    115\n",
       "(20, 30]    230\n",
       "(30, 40]    155\n",
       "(40, 50]     86\n",
       "(50, 60]     42\n",
       "(60, 70]     17\n",
       "(70, 80]      5\n",
       "Name: PassengerId, dtype: int64"
      ]
     },
     "execution_count": 143,
     "metadata": {},
     "output_type": "execute_result"
    }
   ],
   "source": [
    "bins = np.arange(0,90,10)\n",
    "all_cleaned_titanic_df['Age_group'] = pd.cut(all_cleaned_titanic_df['Age'], bins)\n",
    "all_cleaned_titanic_df.groupby(['Age_group'])['PassengerId'].count()"
   ]
  },
  {
   "cell_type": "markdown",
   "metadata": {},
   "source": [
    "分组后计算不同年龄段的人口数和存活率，并且可视化"
   ]
  },
  {
   "cell_type": "code",
   "execution_count": 144,
   "metadata": {},
   "outputs": [
    {
     "data": {
      "text/plain": [
       "<matplotlib.figure.Figure at 0x1a1ee76190>"
      ]
     },
     "metadata": {},
     "output_type": "display_data"
    },
    {
     "data": {
      "image/png": "[encoded data removed]",
      "text/plain": [
       "<matplotlib.figure.Figure at 0x1a1ee766d0>"
      ]
     },
     "metadata": {},
     "output_type": "display_data"
    }
   ],
   "source": [
    "plt.figure(figsize = (12, 5))\n",
    "f, (ax1, ax2) = plt.subplots(1,2)\n",
    "f.set_size_inches((20,8))\n",
    "all_cleaned_titanic_df.groupby(['Age_group', 'Survived'])['PassengerId'].count().unstack().plot(kind = 'bar', ax = ax1, stacked = True)\n",
    "\n",
    "ax1.set_title('Age VS Count')\n",
    "ax1.ylable = 'Count'\n",
    "all_cleaned_titanic_df.groupby('Age_group')['Survived'].mean().plot(kind = 'bar', ax = ax2)\n",
    "ax2.set_title('Age VS Survival Rate')\n",
    "ax2.ylable = 'Survival Rate'\n",
    "plt.show()"
   ]
  },
  {
   "cell_type": "markdown",
   "metadata": {},
   "source": [
    "Pearson's r = -0.078 \n",
    "年龄与是否生还的相关性不大\n",
    "***"
   ]
  },
  {
   "cell_type": "markdown",
   "metadata": {},
   "source": [
    "### 生还的人有何特点？"
   ]
  },
  {
   "cell_type": "markdown",
   "metadata": {},
   "source": [
    "1.年龄特点"
   ]
  },
  {
   "cell_type": "code",
   "execution_count": 145,
   "metadata": {},
   "outputs": [
    {
     "data": {
      "text/plain": [
       "Age_group\n",
       "(0, 10]     38\n",
       "(10, 20]    44\n",
       "(20, 30]    84\n",
       "(30, 40]    69\n",
       "(40, 50]    33\n",
       "(50, 60]    17\n",
       "(60, 70]     4\n",
       "(70, 80]     1\n",
       "Name: PassengerId, dtype: int64"
      ]
     },
     "execution_count": 145,
     "metadata": {},
     "output_type": "execute_result"
    }
   ],
   "source": [
    "# 同样地，划分为年龄组进行计算\n",
    "bins = np.arange(0,90,10)\n",
    "survived_all_cleaned_df['Age_group'] = pd.cut(survived_all_cleaned_df['Age'], bins)\n",
    "survived_all_cleaned_df.groupby(['Age_group'])['PassengerId'].count()"
   ]
  },
  {
   "cell_type": "code",
   "execution_count": 146,
   "metadata": {},
   "outputs": [
    {
     "name": "stdout",
     "output_type": "stream",
     "text": [
      "Populating the interactive namespace from numpy and matplotlib\n"
     ]
    },
    {
     "data": {
      "text/plain": [
       "<matplotlib.axes._subplots.AxesSubplot at 0x1a1ee76f90>"
      ]
     },
     "execution_count": 146,
     "metadata": {},
     "output_type": "execute_result"
    },
    {
     "data": {
      "image/png": "[encoded data removed]",
      "text/plain": [
       "<matplotlib.figure.Figure at 0x1a1eddd150>"
      ]
     },
     "metadata": {},
     "output_type": "display_data"
    }
   ],
   "source": [
    "%pylab inline\n",
    "survived_all_cleaned_df.groupby(['Age_group'])['PassengerId'].count().plot(kind = 'bar')"
   ]
  },
  {
   "cell_type": "markdown",
   "metadata": {},
   "source": [
    "生还的人集中于40岁以下的乘客，40-60岁乘客少量生还，60岁以上乘客几乎没有生还。\n",
    "***"
   ]
  },
  {
   "cell_type": "markdown",
   "metadata": {},
   "source": [
    "2.性别特点"
   ]
  },
  {
   "cell_type": "code",
   "execution_count": 147,
   "metadata": {
    "scrolled": true
   },
   "outputs": [
    {
     "name": "stdout",
     "output_type": "stream",
     "text": [
      "Populating the interactive namespace from numpy and matplotlib\n"
     ]
    },
    {
     "data": {
      "text/plain": [
       "([<matplotlib.patches.Wedge at 0x1a1d8c91d0>,\n",
       "  <matplotlib.patches.Wedge at 0x1a1d8c9d10>],\n",
       " [Text(-0.593159,0.926371,u'Female'), Text(0.593159,-0.926371,u'Male')],\n",
       " [Text(-0.323541,0.505293,u'68.13%'), Text(0.323541,-0.505293,u'31.87%')])"
      ]
     },
     "execution_count": 147,
     "metadata": {},
     "output_type": "execute_result"
    },
    {
     "data": {
      "image/png": "[encoded data removed]",
      "text/plain": [
       "<matplotlib.figure.Figure at 0x1a1eda6850>"
      ]
     },
     "metadata": {},
     "output_type": "display_data"
    }
   ],
   "source": [
    "%pylab inline\n",
    "\n",
    "plt.title = 'Proportion of Survivors in gender'\n",
    "plt.pie(survived_column_cleaned_df.groupby(['Sex']).count()['PassengerId'], labels=['Female', 'Male'], autopct='%1.2f%%')"
   ]
  },
  {
   "cell_type": "markdown",
   "metadata": {},
   "source": [
    "生还的人中，女性占比68.13%，男性占比31.87%。\n",
    "***"
   ]
  },
  {
   "cell_type": "markdown",
   "metadata": {},
   "source": [
    "3.pclass等级特点"
   ]
  },
  {
   "cell_type": "code",
   "execution_count": 148,
   "metadata": {
    "scrolled": false
   },
   "outputs": [
    {
     "name": "stdout",
     "output_type": "stream",
     "text": [
      "Populating the interactive namespace from numpy and matplotlib\n"
     ]
    },
    {
     "data": {
      "text/plain": [
       "([<matplotlib.patches.Wedge at 0x1a1c99fb90>,\n",
       "  <matplotlib.patches.Wedge at 0x1a1d167090>,\n",
       "  <matplotlib.patches.Wedge at 0x1a1d167910>],\n",
       " [Text(0.347597,1.04364,u'Pclass=1'),\n",
       "  Text(-1.08661,-0.17108,u'Pclass=2'),\n",
       "  Text(0.505682,-0.976876,u'Pclass=3')],\n",
       " [Text(0.189599,0.569256,u'39.77%'),\n",
       "  Text(-0.592699,-0.0933163,u'25.44%'),\n",
       "  Text(0.275826,-0.532841,u'34.80%')])"
      ]
     },
     "execution_count": 148,
     "metadata": {},
     "output_type": "execute_result"
    },
    {
     "data": {
      "image/png": "[encoded data removed]",
      "text/plain": [
       "<matplotlib.figure.Figure at 0x1a1d82ff10>"
      ]
     },
     "metadata": {},
     "output_type": "display_data"
    }
   ],
   "source": [
    "%pylab inline\n",
    "\n",
    "# plt.title('Proportion of Survivors in Pclass')\n",
    "plt.pie(survived_column_cleaned_df.groupby(['Pclass']).count()['PassengerId'], labels=['Pclass=1', 'Pclass=2', 'Pclass=3'], autopct='%1.2f%%')"
   ]
  },
  {
   "cell_type": "markdown",
   "metadata": {},
   "source": [
    "生还乘客中，pclass1乘客最多(39.77%)，其次是pclass3乘客(34.80%)，pclass2乘客最少(25.44%)\n",
    "***"
   ]
  },
  {
   "cell_type": "markdown",
   "metadata": {},
   "source": [
    "## Phase 4: 结论阶段"
   ]
  },
  {
   "cell_type": "markdown",
   "metadata": {},
   "source": [
    "#### 此次数据调查的一些局限，以及可能影响结论准确性的因素"
   ]
  },
  {
   "cell_type": "markdown",
   "metadata": {},
   "source": [
    "1. 报告中使用的数据不是全部的乘客数据。样本的大小受到未收集到的数据影响。使用此样本进行计算，可能使计算结果产生偏差，不能完全代表整体人口，只能从一定程度上代表整体人口，置信概率此报告未给出。\n",
    "2. 计算平均年龄时忽略了一些未收集到的NaN数据，可能会导致与实际平均年龄不符，但已经是基于此数据集的最接近结果。\n",
    "3. 其他可能影响存活率的数据，如轮船客舱布局、同行亲属等，未纳入此次计算，不在此次数据调查范围内。"
   ]
  },
  {
   "cell_type": "markdown",
   "metadata": {},
   "source": [
    "#### Question1: 有哪些因素会让船上的人生还率更高？"
   ]
  },
  {
   "cell_type": "markdown",
   "metadata": {},
   "source": [
    "结论1: 女性生存率高于男性\n",
    "\n",
    "性别与生还率的Pearson's r = -0.54 \n",
    "\n",
    "性别与是否生还的相关性较强</br>\n",
    "\n",
    "<font color=#0000ff>但并不说明性别完全基于相关性导致乘客是否生还</font>"
   ]
  },
  {
   "cell_type": "markdown",
   "metadata": {},
   "source": [
    "结论2: pclass1生存率 > pclass2生存率 > pclass3生存率\n",
    "\n",
    "pclass与生还率的Pearson's r = -0.34 \n",
    "\n",
    "pclass等级与是否生还的相关性较强\n",
    "\n",
    "<font color=#0000ff>但并不说明pclass等级完全基于相关性导致乘客是否生还</font>"
   ]
  },
  {
   "cell_type": "markdown",
   "metadata": {},
   "source": [
    "结论3: 年龄因素对是否生还贡献不大\n",
    "\n",
    "年龄与生还率的Pearson's r = Pearson's r = -0.078 \n",
    "\n",
    "年龄与是否生还的相关性不大"
   ]
  },
  {
   "cell_type": "markdown",
   "metadata": {},
   "source": [
    "#### Question2: 生还下来的人有何特点？"
   ]
  },
  {
   "cell_type": "markdown",
   "metadata": {},
   "source": [
    "1.年龄特点"
   ]
  },
  {
   "cell_type": "markdown",
   "metadata": {},
   "source": [
    "生还的人集中于40岁以下的乘客，40-60岁乘客少量生还，60岁以上乘客几乎没有生还。"
   ]
  },
  {
   "cell_type": "markdown",
   "metadata": {},
   "source": [
    "2.性别特点"
   ]
  },
  {
   "cell_type": "markdown",
   "metadata": {},
   "source": [
    "生还的人中，女性占比68.13%，男性占比31.87%"
   ]
  },
  {
   "cell_type": "markdown",
   "metadata": {},
   "source": [
    "3.pclass等级特点"
   ]
  },
  {
   "cell_type": "markdown",
   "metadata": {},
   "source": [
    "生还乘客中，pclass1乘客最多(39.77%)，其次是pclass3乘客(34.80%)，pclass2乘客最少(25.44%)"
   ]
  },
  {
   "cell_type": "markdown",
   "metadata": {},
   "source": [
    "## Phase 5: 沟通阶段"
   ]
  },
  {
   "cell_type": "markdown",
   "metadata": {},
   "source": [
    "#### Question1: 有哪些因素会让船上的人生还率更高？"
   ]
  },
  {
   "cell_type": "markdown",
   "metadata": {},
   "source": [
    "结论1: 女性生存率高于男性\n",
    "\n",
    "女性生存遇难比约为3 : 1 \n",
    "\n",
    "男性生存遇难比约为1 : 4.5"
   ]
  },
  {
   "cell_type": "markdown",
   "metadata": {},
   "source": [
    "结论2: pclass1生存率 > pclass2生存率 > pclass3生存率\n",
    "\n",
    "pclass1生存遇难比约为1.7 : 1\n",
    "\n",
    "pclass2生存遇难比约为0.9 : 1\n",
    "\n",
    "pclass3生存遇难比约为0.3 : 1"
   ]
  },
  {
   "cell_type": "markdown",
   "metadata": {},
   "source": [
    "结论3: 年龄因素对是否生还贡献不大 各年龄段的生还率并无明显差别"
   ]
  },
  {
   "cell_type": "markdown",
   "metadata": {},
   "source": [
    "#### Question2: 生还下来的人有何特点？"
   ]
  },
  {
   "cell_type": "markdown",
   "metadata": {},
   "source": [
    "1.年龄特点"
   ]
  },
  {
   "cell_type": "markdown",
   "metadata": {},
   "source": [
    "生还的人集中于40岁以下的乘客，40-60岁乘客少量生还，60岁以上乘客几乎没有生还。"
   ]
  },
  {
   "cell_type": "markdown",
   "metadata": {},
   "source": [
    "2.性别特点"
   ]
  },
  {
   "cell_type": "markdown",
   "metadata": {},
   "source": [
    "生还的人中，女性占比68.13%，男性占比31.87%"
   ]
  },
  {
   "cell_type": "markdown",
   "metadata": {},
   "source": [
    "3.pclass等级特点"
   ]
  },
  {
   "cell_type": "markdown",
   "metadata": {},
   "source": [
    "生还乘客中，pclass1乘客最多(39.77%)，其次是pclass3乘客(34.80%)，pclass2乘客最少(25.44%)"
   ]
  }
 ],
 "metadata": {
  "kernelspec": {
   "display_name": "Python 2",
   "language": "python",
   "name": "python2"
  },
  "language_info": {
   "codemirror_mode": {
    "name": "ipython",
    "version": 2
   },
   "file_extension": ".py",
   "mimetype": "text/x-python",
   "name": "python",
   "nbconvert_exporter": "python",
   "pygments_lexer": "ipython2",
   "version": "2.7.14"
  }
 },
 "nbformat": 4,
 "nbformat_minor": 1
}
